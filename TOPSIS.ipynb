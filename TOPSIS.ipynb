{
  "nbformat": 4,
  "nbformat_minor": 0,
  "metadata": {
    "colab": {
      "name": "TOPSIS",
      "provenance": [],
      "authorship_tag": "ABX9TyMqd2YZa++Q1UpACxW/Aqq9",
      "include_colab_link": true
    },
    "kernelspec": {
      "name": "python3",
      "display_name": "Python 3"
    },
    "language_info": {
      "name": "python"
    }
  },
  "cells": [
    {
      "cell_type": "markdown",
      "metadata": {
        "id": "view-in-github",
        "colab_type": "text"
      },
      "source": [
        "<a href=\"https://colab.research.google.com/github/jayantMalhotra28/Topsis/blob/main/TOPSIS.ipynb\" target=\"_parent\"><img src=\"https://colab.research.google.com/assets/colab-badge.svg\" alt=\"Open In Colab\"/></a>"
      ]
    },
    {
      "cell_type": "code",
      "metadata": {
        "colab": {
          "base_uri": "https://localhost:8080/"
        },
        "id": "SawK3IVeKII4",
        "outputId": "eafcfefe-e3e1-4a14-cc49-7a7a21143f83"
      },
      "source": [
        "import math\n",
        "import pandas as pd\n",
        "import numpy as np\n",
        "import scipy.stats as ss\n",
        "import sys\n",
        "\n",
        "\n",
        "def topsis(input_file,weights,impact):\n",
        "    \n",
        "    # calculating topsis score\n",
        "    w=list(weights.split(\",\"))\n",
        "    \n",
        "    # Creating Impact vector\n",
        "    impact=list(impact.split(\",\"))\n",
        "\n",
        "    # Reading input_file\n",
        "    df=pd.read_csv(input_file)\n",
        "    df = df.iloc[:,1:]\n",
        "    data=pd.DataFrame(df)\n",
        "    df=df.astype('float')\n",
        "\n",
        "    # Calculating positive and negative values\n",
        "    m=[]\n",
        "    n=[]\n",
        "    for i in range(0,df.shape[1]):\n",
        "        column=df.iloc[:,i]\n",
        "        column = [ x/np.sqrt(sum(np.square(column))) for x in column ]\n",
        "        column = [ x*float(w[i]) for x in column]\n",
        "        df.iloc[:,i]=column\n",
        "        if impact[i]=='+':\n",
        "            m.append(df.iloc[:,i].max(axis=0))\n",
        "            n.append(df.iloc[:,i].min(axis=0))\n",
        "        else:\n",
        "            n.append(df.iloc[:,i].max(axis=0))\n",
        "            m.append(df.iloc[:,i].min(axis=0))\n",
        "    \n",
        "    # calculating topsis score\n",
        "    S1=[]\n",
        "    S2=[]     \n",
        "    for i in range(0,df.shape[0]):\n",
        "        c=df.iloc[i,:]\n",
        "        s1=0\n",
        "        s2=0\n",
        "        for j in range(0,df.shape[1]):\n",
        "            s1=s1+(c[j]-m[j])**2\n",
        "            s2=s2+(c[j]-n[j])**2\n",
        "        s1=math.sqrt(s1)\n",
        "        s2=math.sqrt(s2)\n",
        "        S1.append(s1)\n",
        "        S2.append(s2)\n",
        "   \n",
        "    S3 = [sum(i) for i in zip(S1,S2)] \n",
        "    for i in range(0,df.shape[0]):\n",
        "        if S3[i]==0:\n",
        "            return print(\"invalid data\")\n",
        "\n",
        "    # calculating the rank according to topsis score    \n",
        "    r = [i/j for i,j in zip(S2,S3)]\n",
        "    abc=ss.rankdata(r)\n",
        "    rank=[ abs(i-df.shape[0]-1) for i in abc]\n",
        "    data['Rank']=rank\n",
        "    return print(data)\n",
        "\n",
        "\n",
        "#   topsis(\"file name where data is stored\", \"weight of parameter 1, weight of parameter 2,..,..,weight of parameter n\", \"-,+,+,+\")\n",
        "#   sum of weights should be one \n",
        "#   + if parameter affects positively to ranking , - if paramter affects negatively to ranking\n",
        "\n",
        "topsis(\"model_compare.csv\",\"0.33,0.33,0.33\",\"-,+,+,\")"
      ],
      "execution_count": 12,
      "outputs": [
        {
          "output_type": "stream",
          "name": "stdout",
          "text": [
            "   RMSE  R Square  Accuracy  Rank\n",
            "0  1.23      0.60        60   2.0\n",
            "1  2.66      0.45        64   5.0\n",
            "2  1.56      0.30        62   4.0\n",
            "3  2.62      0.67        71   3.0\n",
            "4  1.40      0.56        80   1.0\n"
          ]
        }
      ]
    },
    {
      "cell_type": "code",
      "metadata": {
        "id": "dilUMVVILeTZ"
      },
      "source": [],
      "execution_count": null,
      "outputs": []
    }
  ]
}